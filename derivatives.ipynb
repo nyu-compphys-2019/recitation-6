{
 "cells": [
  {
   "cell_type": "markdown",
   "metadata": {},
   "source": [
    "Go to Cell - Cell Type - Markdown, and you can here. Write equations as in late $5x = 7 + \\frac{a}{b}$"
   ]
  },
  {
   "cell_type": "code",
   "execution_count": 60,
   "metadata": {},
   "outputs": [],
   "source": [
    "import numpy as np\n",
    "import matplotlib.pyplot as plt"
   ]
  },
  {
   "cell_type": "code",
   "execution_count": 74,
   "metadata": {},
   "outputs": [],
   "source": [
    "def f(x):\n",
    "    return x**3"
   ]
  },
  {
   "cell_type": "code",
   "execution_count": 75,
   "metadata": {},
   "outputs": [],
   "source": [
    "h = [0.1, 0.05, 0.025, 0.001]\n",
    "err_s = np.zeros(len(h))\n",
    "err_c = np.zeros(len(h))"
   ]
  },
  {
   "cell_type": "code",
   "execution_count": 76,
   "metadata": {},
   "outputs": [],
   "source": [
    "x0 = 1\n",
    "exact = 3\n",
    "for i in range(len(h)):\n",
    "    err_s[i] = np.fabs((f(x0+h[i])-f(x0))/h[i]  - exact)/exact\n",
    "    err_c[i] = np.fabs((f(x0+h[i]/2)-f(x0-h[i]/2))/h[i] -  exact)/exact"
   ]
  },
  {
   "cell_type": "code",
   "execution_count": 89,
   "metadata": {},
   "outputs": [
    {
     "data": {
      "text/plain": [
       "[<matplotlib.lines.Line2D at 0x2457ad13fd0>]"
      ]
     },
     "execution_count": 89,
     "metadata": {},
     "output_type": "execute_result"
    },
    {
     "data": {
      "image/png": "[encoded data removed]",
      "text/plain": [
       "<Figure size 432x288 with 1 Axes>"
      ]
     },
     "metadata": {
      "needs_background": "light"
     },
     "output_type": "display_data"
    }
   ],
   "source": [
    "plt.scatter(np.log10(h), np.log10(err_s))\n",
    "plt.scatter(np.log10(h), np.log10(err_c))\n",
    "\n",
    "m_s,c_s = np.polyfit(np.log10(h), np.log10(np.fabs(err_s)) , 1 )\n",
    "m_c,c_c = np.polyfit(np.log10(h), np.log10(np.fabs(err_c)) , 1 )\n",
    "\n",
    "plt.plot(np.log10(h), m_s*np.log10(h) + c_s, '--')\n",
    "plt.plot(np.log10(h), m_c*np.log10(h) + c_c, '--')"
   ]
  },
  {
   "cell_type": "code",
   "execution_count": 90,
   "metadata": {},
   "outputs": [
    {
     "data": {
      "text/plain": [
       "(1.0058163503207271, 2.0000003969666134)"
      ]
     },
     "execution_count": 90,
     "metadata": {},
     "output_type": "execute_result"
    }
   ],
   "source": [
    "m_s, m_c"
   ]
  }
 ],
 "metadata": {
  "kernelspec": {
   "display_name": "Python 3",
   "language": "python",
   "name": "python3"
  },
  "language_info": {
   "codemirror_mode": {
    "name": "ipython",
    "version": 3
   },
   "file_extension": ".py",
   "mimetype": "text/x-python",
   "name": "python",
   "nbconvert_exporter": "python",
   "pygments_lexer": "ipython3",
   "version": "3.7.3"
  }
 },
 "nbformat": 4,
 "nbformat_minor": 2
}
